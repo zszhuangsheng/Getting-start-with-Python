{
 "cells": [
  {
   "cell_type": "markdown",
   "metadata": {},
   "source": [
    "# Loops and Iterations"
   ]
  },
  {
   "cell_type": "markdown",
   "metadata": {},
   "source": [
    "## Repeated Steps\n",
    "\n",
    "Loops (repeated steps) have iteration variables that change each time through a loop. Often these iteration variables go through a sequence of numbers.\n",
    "\n",
    "while keywords and for keywords,for is tje keyword for definite loops and wjile is for indefinite loops."
   ]
  },
  {
   "cell_type": "code",
   "execution_count": 1,
   "metadata": {},
   "outputs": [
    {
     "name": "stdout",
     "output_type": "stream",
     "text": [
      "5\n",
      "4\n",
      "3\n",
      "2\n",
      "1\n",
      "Blastoff!\n",
      "0\n"
     ]
    }
   ],
   "source": [
    "n=5\n",
    "while n>0:\n",
    "    print(n)\n",
    "    n=n-1\n",
    "print(\"Blastoff!\")\n",
    "print(n)"
   ]
  },
  {
   "cell_type": "markdown",
   "metadata": {},
   "source": [
    "## An Infinite Loop\n",
    "\n",
    "There's no way for this true to become false"
   ]
  },
  {
   "cell_type": "code",
   "execution_count": null,
   "metadata": {},
   "outputs": [],
   "source": [
    "n=5\n",
    "while n>0:\n",
    "    print(\"Lather\")\n",
    "    print(\"Rinse\")\n",
    "print(\"Dry off\")"
   ]
  },
  {
   "cell_type": "markdown",
   "metadata": {},
   "source": [
    "## Another Loop\n",
    "\n",
    "zero_trip loop"
   ]
  },
  {
   "cell_type": "code",
   "execution_count": null,
   "metadata": {},
   "outputs": [],
   "source": [
    "n=0\n",
    "while n>0:\n",
    "    print(\"Lather\")\n",
    "    print(\"Rinse\")\n",
    "print(\"Dry off!\")"
   ]
  },
  {
   "cell_type": "markdown",
   "metadata": {},
   "source": [
    "## Breaking Out of a loop\n",
    "\n",
    "The break statement ends the current loop and jumps to the statement immediately following the loop\n",
    "\n",
    "It is like a loop test that can happen anywhere in the body of the loop"
   ]
  },
  {
   "cell_type": "code",
   "execution_count": 2,
   "metadata": {},
   "outputs": [
    {
     "name": "stdout",
     "output_type": "stream",
     "text": [
      ">>\n",
      ">\n",
      ">q\n",
      "q\n",
      ">done\n",
      "Done!\n"
     ]
    }
   ],
   "source": [
    "while True:\n",
    "    line=input(\">\")\n",
    "    if line=='done':   # if line=\"done\",we will get a True\n",
    "        break   #it's escape the loop directly\n",
    "    print(line)\n",
    "print(\"Done!\")"
   ]
  },
  {
   "cell_type": "markdown",
   "metadata": {},
   "source": [
    "## Finishing an Iteration with Continue\n",
    "\n",
    "The continue statement ends the current iteration and jumps to the top of the loop and starts the next iteration"
   ]
  },
  {
   "cell_type": "code",
   "execution_count": 3,
   "metadata": {},
   "outputs": [
    {
     "name": "stdout",
     "output_type": "stream",
     "text": [
      ">hello there\n",
      "hello there\n",
      ">#don't print this\n",
      ">print this\n",
      "print this\n",
      ">done\n",
      "Done!\n"
     ]
    }
   ],
   "source": [
    "while True:\n",
    "    line=input(\">\")\n",
    "    if line[0]==\"#\":  #if line[0]=\"#\",we will get True, I don't why the program don't print this line\n",
    "        continue\n",
    "    if line==\"done\":\n",
    "        break\n",
    "    print(line)\n",
    "print(\"Done!\")"
   ]
  },
  {
   "cell_type": "markdown",
   "metadata": {},
   "source": [
    "### Aditionnal Knowledge\n",
    "\n",
    "### Point 1. How to use while True\n",
    "When you use \"while True\" statement, you must use \"break\" at the same time.Otherwise, the program will loop forever. Here is an example."
   ]
  },
  {
   "cell_type": "code",
   "execution_count": 6,
   "metadata": {},
   "outputs": [
    {
     "name": "stdout",
     "output_type": "stream",
     "text": [
      "Please Enter you User Name:Joe\n",
      "Please Enter your Password:167788\n",
      "the password is wrong, please try again\n"
     ]
    }
   ],
   "source": [
    "# don't use while True\n",
    "d={'Jack':123456,'Mark':134567,'Mike':145678,'Steven':156789,'Joe':167890}\n",
    "name=input(\"Please Enter you User Name:\")\n",
    "if name in d:\n",
    "    password=input(\"Please Enter your Password:\")\n",
    "    if d[name]==password:\n",
    "        print(\"Login...\")\n",
    "    else:\n",
    "        print(\"the password is wrong, please try again\")\n",
    "else:\n",
    "    print(\"Your User Name is wrong,try again\")"
   ]
  },
  {
   "cell_type": "code",
   "execution_count": 1,
   "metadata": {},
   "outputs": [
    {
     "name": "stdout",
     "output_type": "stream",
     "text": [
      "Please Enter Your User Name：Alice\n",
      "Your name is wrong，please try again\n",
      "Please Enter Your User Name：Anna\n",
      "Your name is wrong，please try again\n",
      "Please Enter Your User Name：Joe\n",
      "Please enter your pssword：123321\n",
      "Your password is wrong\n",
      "Please enter your pssword：167890\n",
      "Login...\n"
     ]
    }
   ],
   "source": [
    "# 使用while True\n",
    "\n",
    "d = {'Jack':123456,'Mark':134567,'Mike':145678,'Steven':156789,'Joe':167890}\n",
    "\n",
    "while True:\n",
    "    name = input('Please Enter Your User Name：')\n",
    "    if name in d:   # return True and break\n",
    "        break\n",
    "    else:\n",
    "        print('Your name is wrong，please try again')\n",
    "        continue\n",
    "\n",
    "while True:\n",
    "    password = input('Please enter your pssword：')\n",
    "    if d[name] == int(password):   # please take a note of the type of password\n",
    "        print('Login...')\n",
    "        break\n",
    "    else:\n",
    "        print('Your password is wrong')\n",
    "        continue"
   ]
  },
  {
   "cell_type": "markdown",
   "metadata": {},
   "source": [
    "In this case, while True statement help the progam execute the command many times until the condition becomes true."
   ]
  },
  {
   "cell_type": "markdown",
   "metadata": {},
   "source": [
    "### Point 2. How to use continue and break\n",
    "When you get a bololean value is True,you can use continue to jump out of this loop and you can use break to jump out of entire loop. Here's an example."
   ]
  },
  {
   "cell_type": "code",
   "execution_count": 8,
   "metadata": {},
   "outputs": [
    {
     "name": "stdout",
     "output_type": "stream",
     "text": [
      "5\n"
     ]
    }
   ],
   "source": [
    "for x in range(10):\n",
    "    if x==5:\n",
    "        print(x)\n",
    "        break"
   ]
  },
  {
   "cell_type": "code",
   "execution_count": 10,
   "metadata": {},
   "outputs": [
    {
     "name": "stdout",
     "output_type": "stream",
     "text": [
      "0\n",
      "1\n",
      "2\n",
      "3\n",
      "4\n"
     ]
    }
   ],
   "source": [
    "for x in range(10):\n",
    "    if x==5:\n",
    "        break\n",
    "    print(x)"
   ]
  },
  {
   "cell_type": "code",
   "execution_count": 11,
   "metadata": {},
   "outputs": [
    {
     "name": "stdout",
     "output_type": "stream",
     "text": [
      "0\n",
      "1\n",
      "2\n",
      "3\n",
      "4\n",
      "6\n",
      "7\n",
      "8\n",
      "9\n"
     ]
    }
   ],
   "source": [
    "for x in range(10):\n",
    "    if x==5:\n",
    "        continue\n",
    "    print(x)"
   ]
  },
  {
   "cell_type": "code",
   "execution_count": 13,
   "metadata": {},
   "outputs": [
    {
     "name": "stdout",
     "output_type": "stream",
     "text": [
      "5\n"
     ]
    }
   ],
   "source": [
    "for x in range(10):\n",
    "    if x==5:\n",
    "        print(x)\n",
    "        continue"
   ]
  },
  {
   "cell_type": "markdown",
   "metadata": {},
   "source": [
    "## Indefinite Loops\n",
    "\n",
    "While loops are called \"indefinite loops\" because they keep going until a logical condition becomes False\n",
    "\n",
    "The loops we have seen so far are pretty easy to examine to see if they will terminate or if they will be \"infinite loops\"\n",
    "\n",
    "Sometimes it is a little harder to be sure if a loop will terminate"
   ]
  },
  {
   "cell_type": "markdown",
   "metadata": {},
   "source": [
    "## Definite Loops\n",
    "\n",
    "Quite often we have a list of items of the lines in a file -- effectively a finite set of things\n",
    "\n",
    "We can write a loop to run the loop once for each of items in a set using the Python for construct\n",
    "\n",
    "These loops are called \"definite loops\" because they execute an exact number of items\n",
    "\n",
    "We say that \"definite loops iterate through the members of a set\".\n",
    "\n",
    "Definite loops(for loops) have explicit iteration variables that change each time through a loop. These iteration variables move through the sequence or set."
   ]
  },
  {
   "cell_type": "code",
   "execution_count": 6,
   "metadata": {},
   "outputs": [
    {
     "name": "stdout",
     "output_type": "stream",
     "text": [
      "5\n",
      "4\n",
      "3\n",
      "2\n",
      "1\n",
      "Blastoff!\n"
     ]
    }
   ],
   "source": [
    "for i in [5,4,3,2,1]:  # i is the iteration variable, and [5,4,3,2,1] is five-element sequence\n",
    "    print(i)\n",
    "print(\"Blastoff!\")"
   ]
  },
  {
   "cell_type": "markdown",
   "metadata": {},
   "source": [
    "## A Definite Loop with String"
   ]
  },
  {
   "cell_type": "code",
   "execution_count": 5,
   "metadata": {
    "scrolled": true
   },
   "outputs": [
    {
     "name": "stdout",
     "output_type": "stream",
     "text": [
      "Happy New Year: Joseph\n",
      "Happy New Year: Glenn\n",
      "Happy New Year: Sally\n",
      "Done!\n"
     ]
    }
   ],
   "source": [
    "friends=['Joseph','Glenn','Sally']\n",
    "for friend in friends:\n",
    "    print(\"Happy New Year:\",friend)\n",
    "print(\"Done!\")   "
   ]
  },
  {
   "cell_type": "markdown",
   "metadata": {},
   "source": [
    "## Looking at In\n",
    "\n",
    "The iteration variable \"iterates\" through the sequence(order set)\n",
    "\n",
    "The block(body) of code is executed once for each value inthe sequence\n",
    "\n",
    "The iteration variable moves through all of the values in the sequence"
   ]
  },
  {
   "cell_type": "markdown",
   "metadata": {},
   "source": [
    "## Loop Idioms: What we do in Loops"
   ]
  },
  {
   "cell_type": "markdown",
   "metadata": {},
   "source": [
    "## Making \"smart\" Loops\n",
    "\n",
    "The trick is \"knowing\" something about the whole loop when you are stuck writing code that only sees one entry at a time"
   ]
  },
  {
   "cell_type": "markdown",
   "metadata": {},
   "source": [
    "## Looping Through a Set"
   ]
  },
  {
   "cell_type": "code",
   "execution_count": 7,
   "metadata": {},
   "outputs": [
    {
     "name": "stdout",
     "output_type": "stream",
     "text": [
      "Before\n",
      "9\n",
      "41\n",
      "12\n",
      "3\n",
      "74\n",
      "15\n",
      "After\n"
     ]
    }
   ],
   "source": [
    "print(\"Before\")\n",
    "for thing in[9,41,12,3,74,15]:\n",
    "    print(thing)\n",
    "print(\"After\")"
   ]
  },
  {
   "cell_type": "markdown",
   "metadata": {},
   "source": [
    "## Finding the largest Value"
   ]
  },
  {
   "cell_type": "code",
   "execution_count": 9,
   "metadata": {},
   "outputs": [
    {
     "name": "stdout",
     "output_type": "stream",
     "text": [
      "Before -1\n",
      "9 9\n",
      "41 41\n",
      "41 12\n",
      "41 3\n",
      "74 74\n",
      "74 15\n",
      "After 74\n"
     ]
    }
   ],
   "source": [
    "largest_so_far=-1\n",
    "print(\"Before\",largest_so_far)\n",
    "for the_num in [9,41,12,3,74,15]:\n",
    "    if the_num > largest_so_far:\n",
    "        largest_so_far=the_num\n",
    "    print(largest_so_far,the_num)\n",
    "\n",
    "print(\"After\",largest_so_far)"
   ]
  },
  {
   "cell_type": "markdown",
   "metadata": {},
   "source": [
    "## Counting in a Loop\n",
    "\n",
    "To count how many times we execute a loop, we introduce a counter variable that starts at 0 and we add one to it each time through the loop"
   ]
  },
  {
   "cell_type": "code",
   "execution_count": 10,
   "metadata": {},
   "outputs": [
    {
     "name": "stdout",
     "output_type": "stream",
     "text": [
      "Before 0\n",
      "Before 0\n",
      "1 9\n",
      "2 41\n",
      "3 12\n",
      "4 3\n",
      "5 74\n",
      "6 15\n",
      "After 6\n"
     ]
    }
   ],
   "source": [
    "zork=0\n",
    "print(\"Before\",zork)\n",
    "print(\"Before\",zork)\n",
    "for thing in [9,41,12,3,74,15]:\n",
    "    zork=zork+1\n",
    "    print(zork,thing)\n",
    "print(\"After\",zork)"
   ]
  },
  {
   "cell_type": "markdown",
   "metadata": {},
   "source": [
    "## Summing in a Loop\n",
    "\n",
    "To add up a value we encounter in a loop, we introduce a sum variable tthat starts at 0 and we add the value to the sum each time through the loop."
   ]
  },
  {
   "cell_type": "code",
   "execution_count": 12,
   "metadata": {},
   "outputs": [
    {
     "name": "stdout",
     "output_type": "stream",
     "text": [
      "Before 0\n",
      "9 9\n",
      "50 41\n",
      "62 12\n",
      "65 3\n",
      "139 74\n",
      "154 15\n",
      "After 154\n"
     ]
    }
   ],
   "source": [
    "zork=0\n",
    "print(\"Before\",zork)\n",
    "for thing in [9,41,12,3,74,15]:\n",
    "    zork=zork+thing\n",
    "    print(zork,thing)\n",
    "print(\"After\",zork)"
   ]
  },
  {
   "cell_type": "markdown",
   "metadata": {},
   "source": [
    "## Finding the Average in a Loop\n",
    "\n",
    "An average just combines the counting and sum patterns and divides when the loop is done."
   ]
  },
  {
   "cell_type": "code",
   "execution_count": 17,
   "metadata": {},
   "outputs": [
    {
     "name": "stdout",
     "output_type": "stream",
     "text": [
      "Before 0 0\n",
      "1 9 9\n",
      "2 50 41\n",
      "3 62 12\n",
      "4 65 3\n",
      "5 139 74\n",
      "6 154 15\n",
      "After 6 154 25.666666666666668\n"
     ]
    }
   ],
   "source": [
    "count=0\n",
    "sum=0\n",
    "print(\"Before\",count,sum)\n",
    "for value in [9,41,12,3,74,15]:\n",
    "    count=count+1\n",
    "    sum=sum+value\n",
    "    print(count,sum,value)\n",
    "print(\"After\",count,sum,sum/count)"
   ]
  },
  {
   "cell_type": "markdown",
   "metadata": {},
   "source": [
    "## Filtering in a Loop\n",
    "\n",
    "filtering is the idea that we're looking for something that meets some criteria.\n",
    "\n",
    "We use an if statement in the loop to catch/filter the values we are looking for."
   ]
  },
  {
   "cell_type": "code",
   "execution_count": 18,
   "metadata": {},
   "outputs": [
    {
     "name": "stdout",
     "output_type": "stream",
     "text": [
      "Before\n",
      "Large number 41\n",
      "Large number 74\n",
      "After\n"
     ]
    }
   ],
   "source": [
    "print(\"Before\")\n",
    "for value in [9,41,12,3,74,15]:\n",
    "    if value>20:\n",
    "        print(\"Large number\",value)\n",
    "print(\"After\")"
   ]
  },
  {
   "cell_type": "markdown",
   "metadata": {},
   "source": [
    "## Search Using a Boolean Variable\n",
    "\n",
    "If we just want to search and know if a value was found, we use a variable that starts at False and is set to True as soon as we find what we are looking for."
   ]
  },
  {
   "cell_type": "code",
   "execution_count": 19,
   "metadata": {},
   "outputs": [
    {
     "name": "stdout",
     "output_type": "stream",
     "text": [
      "Before False\n",
      "False 9\n",
      "False 41\n",
      "False 12\n",
      "True 3\n",
      "True 74\n",
      "True 15\n",
      "After True\n"
     ]
    }
   ],
   "source": [
    "found=False\n",
    "print(\"Before\",found)\n",
    "for value in [9,41,12,3,74,15]:\n",
    "    if value==3:\n",
    "        found=True   #when get the True value,change the variable found\n",
    "    print(found,value)\n",
    "print(\"After\",found)"
   ]
  },
  {
   "cell_type": "markdown",
   "metadata": {},
   "source": [
    "## How to Find the Smallest Value\n",
    "\n",
    "We still have a variable that is the smallest so far. The first time through the loop smallest is None, so we take the first value to be the smallest.\n",
    "\n",
    "None type has one thing-- None. None is a variable, a value, that we can distinctly detect different than numbers. If smallest is None, it's more powerful than double equals sign."
   ]
  },
  {
   "cell_type": "code",
   "execution_count": 21,
   "metadata": {},
   "outputs": [
    {
     "name": "stdout",
     "output_type": "stream",
     "text": [
      "Before -1\n",
      "-1 9\n",
      "-1 41\n",
      "-1 12\n",
      "-1 3\n",
      "-1 74\n",
      "-1 15\n",
      "After -1\n"
     ]
    }
   ],
   "source": [
    "smallest_so_far=-1  #like a flag value,\n",
    "print(\"Before\",smallest_so_far)\n",
    "for the_num in [9,41,12,3,74,15]:\n",
    "    if the_num < smallest_so_far:\n",
    "        smallest_so_far=the_num\n",
    "    print(smallest_so_far,the_num)\n",
    "\n",
    "print(\"After\",smallest_so_far)\n",
    "    "
   ]
  },
  {
   "cell_type": "markdown",
   "metadata": {},
   "source": [
    "## The \"is\" and \"is not\" Operators\n",
    "\n",
    "Python has an is  operator that can be used in logical expressions\n",
    "\n",
    "Implies \"is the same as\"\n",
    "\n",
    "Similar to, but stronger than ==\n",
    "\n",
    "is not also is a logical operator"
   ]
  },
  {
   "cell_type": "code",
   "execution_count": 22,
   "metadata": {},
   "outputs": [
    {
     "name": "stdout",
     "output_type": "stream",
     "text": [
      "Before\n",
      "3 3\n",
      "3 41\n",
      "3 12\n",
      "3 9\n",
      "3 74\n",
      "3 15\n",
      "After 3\n"
     ]
    }
   ],
   "source": [
    "smallest =None\n",
    "print(\"Before\")\n",
    "for value in [3,41,12,9,74,15]:\n",
    "    if smallest is None:\n",
    "        smallest = value\n",
    "    elif value<smallest:\n",
    "        smallest=value\n",
    "    print(smallest,value)\n",
    "print(\"After\",smallest)"
   ]
  }
 ],
 "metadata": {
  "kernelspec": {
   "display_name": "Python 3",
   "language": "python",
   "name": "python3"
  },
  "language_info": {
   "codemirror_mode": {
    "name": "ipython",
    "version": 3
   },
   "file_extension": ".py",
   "mimetype": "text/x-python",
   "name": "python",
   "nbconvert_exporter": "python",
   "pygments_lexer": "ipython3",
   "version": "3.6.5"
  }
 },
 "nbformat": 4,
 "nbformat_minor": 2
}
