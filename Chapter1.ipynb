{
 "cells": [
  {
   "cell_type": "markdown",
   "metadata": {},
   "source": [
    "# Elements of Python"
   ]
  },
  {
   "cell_type": "markdown",
   "metadata": {},
   "source": [
    "• Vocabulary / Words - Variables and Reserved words \n",
    "\n",
    "• Sentence structure - valid syntax patterns \n",
    "\n",
    "• Story structure - constructing a program for a purpose"
   ]
  },
  {
   "cell_type": "code",
   "execution_count": null,
   "metadata": {},
   "outputs": [],
   "source": [
    "#Get the name of the file and open it\n",
    "name = input('Enter file:')\n",
    "handle = open(name)"
   ]
  },
  {
   "cell_type": "code",
   "execution_count": null,
   "metadata": {},
   "outputs": [],
   "source": [
    "#Count word frequency\n",
    "counts=dict()\n",
    "for line in handle:\n",
    "    words = line.split()\n",
    "    for word in words:\n",
    "        counts[word] = counts.get(word,0)+1"
   ]
  },
  {
   "cell_type": "code",
   "execution_count": null,
   "metadata": {},
   "outputs": [],
   "source": [
    "#Find the most common word\n",
    "bigcount=None\n",
    "bigword=None\n",
    "for word,count in counts.items():\n",
    "    if bigcount is None or count > bigcount:\n",
    "        bigword=word\n",
    "        bigcount=count\n",
    "# All done\n",
    "print(bigword,bigcount)"
   ]
  },
  {
   "cell_type": "markdown",
   "metadata": {},
   "source": [
    "# Reserved Word"
   ]
  },
  {
   "cell_type": "markdown",
   "metadata": {},
   "source": [
    "• You cannot use reserved words as variable names / identifiers\n",
    "   \n",
    "   False   class   return   is   finally\n",
    "   \n",
    "   None    if        for  lambda   continue\n",
    "   \n",
    "   True     def     from   while   nonlocal\n",
    "   \n",
    "   and      del      global   not   with\n",
    "   \n",
    "   as        elif      try       or     yield\n",
    "  \n",
    "   assert   else    import   pass\n",
    "   \n",
    "   break   except    in     raise"
   ]
  },
  {
   "cell_type": "markdown",
   "metadata": {},
   "source": [
    "Here's an example:\n",
    "\n",
    "x is an variable\n",
    "\n",
    "2 is a constant\n",
    "\n",
    "+,= are operators\n",
    "\n",
    "print() is the function"
   ]
  },
  {
   "cell_type": "code",
   "execution_count": null,
   "metadata": {},
   "outputs": [],
   "source": [
    "x=2  #Assignment statement\n",
    "x=x+2  #Assignment with expression\n",
    "print(x)  #Print function "
   ]
  },
  {
   "cell_type": "markdown",
   "metadata": {},
   "source": [
    "# Python Scripts"
   ]
  },
  {
   "cell_type": "markdown",
   "metadata": {},
   "source": [
    "• Interactive Python is good for experiments and programs of 3-4\n",
    "lines long.\n",
    "\n",
    "• Most programs are much longer, so we type them into a file and\n",
    "tell Python to run the commands in the file.\n",
    "\n",
    "• In a sense, we are “giving Python a script”.\n",
    "\n",
    "• As a convention, we add “.py” as the suffix on the end of these files\n",
    "to indicate they contain Python."
   ]
  },
  {
   "cell_type": "markdown",
   "metadata": {},
   "source": [
    "# Interactive versus Script"
   ]
  },
  {
   "cell_type": "markdown",
   "metadata": {},
   "source": [
    "• Interactive\n",
    "\n",
    "– You type directly to Python one line at a time and it responds\n",
    "\n",
    "• Script\n",
    "\n",
    "– You enter a sequence of statements (lines) into a file using a text editor\n",
    "and tell Python to execute the statements in the file."
   ]
  },
  {
   "cell_type": "markdown",
   "metadata": {},
   "source": [
    "# Program Steps or Program Flow"
   ]
  },
  {
   "cell_type": "markdown",
   "metadata": {},
   "source": [
    "## Sequential Steps\n",
    "\n"
   ]
  },
  {
   "cell_type": "code",
   "execution_count": null,
   "metadata": {},
   "outputs": [],
   "source": [
    "x=2\n",
    "print(x)"
   ]
  },
  {
   "cell_type": "code",
   "execution_count": null,
   "metadata": {},
   "outputs": [],
   "source": [
    "x=x+2\n",
    "print(x)"
   ]
  },
  {
   "cell_type": "markdown",
   "metadata": {},
   "source": [
    "## Conditional Steps"
   ]
  },
  {
   "cell_type": "code",
   "execution_count": null,
   "metadata": {},
   "outputs": [],
   "source": [
    "x=5\n",
    "if x<10:\n",
    "    print(\"Smaller\")\n",
    "elif x>20:\n",
    "    print(\"Bigger\")\n",
    "\n",
    "print(\"Finis\")"
   ]
  },
  {
   "cell_type": "markdown",
   "metadata": {},
   "source": [
    "## Repeated Steps"
   ]
  },
  {
   "cell_type": "code",
   "execution_count": null,
   "metadata": {},
   "outputs": [],
   "source": [
    "n=5\n",
    "while n>0:\n",
    "    print(n)\n",
    "    n=n-1\n",
    "print(\"Blastoff\")"
   ]
  }
 ],
 "metadata": {
  "kernelspec": {
   "display_name": "Python 3",
   "language": "python",
   "name": "python3"
  },
  "language_info": {
   "codemirror_mode": {
    "name": "ipython",
    "version": 3
   },
   "file_extension": ".py",
   "mimetype": "text/x-python",
   "name": "python",
   "nbconvert_exporter": "python",
   "pygments_lexer": "ipython3",
   "version": "3.6.5"
  }
 },
 "nbformat": 4,
 "nbformat_minor": 2
}
