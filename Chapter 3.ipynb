{
 "cells": [
  {
   "cell_type": "markdown",
   "metadata": {},
   "source": [
    "# Conditional Execution"
   ]
  },
  {
   "cell_type": "markdown",
   "metadata": {},
   "source": [
    "## Conditional Steps"
   ]
  },
  {
   "cell_type": "code",
   "execution_count": 2,
   "metadata": {},
   "outputs": [
    {
     "name": "stdout",
     "output_type": "stream",
     "text": [
      "Smaller\n",
      "Finis\n"
     ]
    }
   ],
   "source": [
    "x=5\n",
    "if x<10:\n",
    "    print(\"Smaller\")\n",
    "if x>20:\n",
    "    print(\"Bigger\")\n",
    "print(\"Finis\")"
   ]
  },
  {
   "cell_type": "markdown",
   "metadata": {},
   "source": [
    "## Comparison Operators"
   ]
  },
  {
   "cell_type": "markdown",
   "metadata": {},
   "source": [
    "Python: <,<=,==,>=,>,!=  (remeber: \"=\" is used for assignment)"
   ]
  },
  {
   "cell_type": "markdown",
   "metadata": {},
   "source": [
    "Boolean expressions ask a question and produce a Yes or No result which we use to control the program flow\n",
    "\n",
    "Boolean expressions using comparison operator evaluate to True/False or Yes/No\n",
    "\n",
    "Comparison operators look at variables but do not change the variables"
   ]
  },
  {
   "cell_type": "markdown",
   "metadata": {},
   "source": [
    "### Here's an example about comparison operator"
   ]
  },
  {
   "cell_type": "code",
   "execution_count": 3,
   "metadata": {},
   "outputs": [
    {
     "name": "stdout",
     "output_type": "stream",
     "text": [
      "Equals 5\n",
      "Greater than 4\n",
      "Greater than or Equals 5\n",
      "Less than 6\n",
      "Less than or equals 5\n",
      "Not equal 6\n"
     ]
    }
   ],
   "source": [
    "x=5\n",
    "if x==5:\n",
    "    print(\"Equals 5\")\n",
    "if x>4:\n",
    "    print(\"Greater than 4\")\n",
    "if x>=5:\n",
    "    print(\"Greater than or Equals 5\")\n",
    "if x<6: print(\"Less than 6\")\n",
    "if x<=5:\n",
    "    print(\"Less than or equals 5\")\n",
    "if x!=6:\n",
    "    print(\"Not equal 6\")"
   ]
  },
  {
   "cell_type": "markdown",
   "metadata": {},
   "source": [
    "### One-Way Decision"
   ]
  },
  {
   "cell_type": "code",
   "execution_count": 5,
   "metadata": {},
   "outputs": [
    {
     "name": "stdout",
     "output_type": "stream",
     "text": [
      "Before 5\n",
      "Is 5\n",
      "Is Still 5\n",
      "Third 5\n",
      "Afterwards 5\n",
      "Before 6\n",
      "Afterwards 6\n"
     ]
    }
   ],
   "source": [
    "x=5\n",
    "print(\"Before 5\")\n",
    "if x==5:\n",
    "    print(\"Is 5\")\n",
    "    print(\"Is Still 5\")\n",
    "    print(\"Third 5\")\n",
    "print(\"Afterwards 5\")\n",
    "print(\"Before 6\")\n",
    "if x==6:\n",
    "    print(\"Is 6\")\n",
    "    print(\"Is Still 6\")\n",
    "    print(\"Third 6\")\n",
    "print(\"Afterwards 6\")"
   ]
  },
  {
   "cell_type": "markdown",
   "metadata": {},
   "source": [
    "## Indentation"
   ]
  },
  {
   "cell_type": "markdown",
   "metadata": {},
   "source": [
    "Increasing indent indent after an if statement or for statement(after:)\n",
    "\n",
    "Maintain indent to indicate the scope of the block(which lines are affected by the if/for)\n",
    "\n",
    "Reduce indent back to the level of the if statement for statement to indicate the end of the block\n",
    "\n",
    "Bank lines are ignored--they do not affect indentation\n",
    "\n",
    "Comments on a line by themselves are ignored with regard to indentation"
   ]
  },
  {
   "cell_type": "markdown",
   "metadata": {},
   "source": [
    "### Think about begin/end blocks"
   ]
  },
  {
   "cell_type": "code",
   "execution_count": 6,
   "metadata": {},
   "outputs": [
    {
     "name": "stdout",
     "output_type": "stream",
     "text": [
      "Bigger than 2\n",
      "Still bigger\n",
      "Done with 2\n"
     ]
    }
   ],
   "source": [
    "x=5\n",
    "if x>2:\n",
    "    print(\"Bigger than 2\")\n",
    "    print(\"Still bigger\")\n",
    "print(\"Done with 2\")"
   ]
  },
  {
   "cell_type": "code",
   "execution_count": 7,
   "metadata": {},
   "outputs": [
    {
     "name": "stdout",
     "output_type": "stream",
     "text": [
      "0\n",
      "Done with i 0\n",
      "1\n",
      "Done with i 1\n",
      "2\n",
      "Done with i 2\n",
      "3\n",
      "Bigger than 2\n",
      "Done with i 3\n",
      "4\n",
      "Bigger than 2\n",
      "Done with i 4\n",
      "All Done\n"
     ]
    }
   ],
   "source": [
    "for i in range(5):\n",
    "    print(i)\n",
    "    if i>2:\n",
    "        print(\"Bigger than 2\")\n",
    "    print(\"Done with i\",i)\n",
    "print(\"All Done\")"
   ]
  },
  {
   "cell_type": "markdown",
   "metadata": {},
   "source": [
    "### Nested Decision"
   ]
  },
  {
   "cell_type": "code",
   "execution_count": 8,
   "metadata": {},
   "outputs": [
    {
     "name": "stdout",
     "output_type": "stream",
     "text": [
      "More than one\n",
      "Less than 100\n",
      "All Done\n"
     ]
    }
   ],
   "source": [
    "x=42\n",
    "if x>1:\n",
    "    print(\"More than one\")\n",
    "    if x<100:\n",
    "        print(\"Less than 100\")\n",
    "print(\"All Done\")"
   ]
  },
  {
   "cell_type": "markdown",
   "metadata": {},
   "source": [
    "### Two-way Decisions"
   ]
  },
  {
   "cell_type": "markdown",
   "metadata": {},
   "source": [
    "Sometimes we want to do one thing if a logical expression is true and something else if the expression is false\n",
    "\n",
    "It's like a fork in the road-- we must choose one or the other path but not both."
   ]
  },
  {
   "cell_type": "code",
   "execution_count": 9,
   "metadata": {},
   "outputs": [
    {
     "name": "stdout",
     "output_type": "stream",
     "text": [
      "Bigger\n",
      "All Done\n"
     ]
    }
   ],
   "source": [
    "x=4\n",
    "if x>2:\n",
    "    print(\"Bigger\")\n",
    "else:\n",
    "    print(\"Smaller\")\n",
    "    \n",
    "print(\"All Done\")"
   ]
  },
  {
   "cell_type": "markdown",
   "metadata": {},
   "source": [
    "### Multi-Way"
   ]
  },
  {
   "cell_type": "code",
   "execution_count": 10,
   "metadata": {},
   "outputs": [
    {
     "name": "stdout",
     "output_type": "stream",
     "text": [
      "Medium\n",
      "All done\n"
     ]
    }
   ],
   "source": [
    "if x<2:\n",
    "    print(\"Small\")\n",
    "elif x<10:\n",
    "    print(\"Medium\")\n",
    "else:\n",
    "    print(\"LARGE\")\n",
    "print(\"All done\")"
   ]
  },
  {
   "cell_type": "code",
   "execution_count": 11,
   "metadata": {},
   "outputs": [
    {
     "name": "stdout",
     "output_type": "stream",
     "text": [
      "Medium\n"
     ]
    }
   ],
   "source": [
    "if x<2:\n",
    "    print(\"Small\")\n",
    "elif x<10:\n",
    "    print(\"Medium\")\n",
    "elif x<20:\n",
    "    print(\"Big\")\n",
    "elif x<40:\n",
    "    print(\"Large\")\n",
    "elif x<100:\n",
    "    print(\"Huge\")\n",
    "else:\n",
    "    print(\"Ginormous\")"
   ]
  },
  {
   "cell_type": "markdown",
   "metadata": {},
   "source": [
    "## The try/except Structure"
   ]
  },
  {
   "cell_type": "markdown",
   "metadata": {},
   "source": [
    "You surround a dangerous section of code with try and except\n",
    "\n",
    "If the code in the try works-- the except is skipped\n",
    "\n",
    "If the code in the try fails -- it jumps to except section5"
   ]
  },
  {
   "cell_type": "code",
   "execution_count": 12,
   "metadata": {},
   "outputs": [
    {
     "name": "stdout",
     "output_type": "stream",
     "text": [
      "First -1\n"
     ]
    }
   ],
   "source": [
    "astr=\"Hello Bob\"\n",
    "try:\n",
    "    istr=int(astr)\n",
    "except:\n",
    "    istr=-1\n",
    "\n",
    "print(\"First\",istr)"
   ]
  },
  {
   "cell_type": "code",
   "execution_count": 13,
   "metadata": {},
   "outputs": [
    {
     "name": "stdout",
     "output_type": "stream",
     "text": [
      "Second 123\n"
     ]
    }
   ],
   "source": [
    "astr=\"123\"\n",
    "try:\n",
    "    istr=int(astr)\n",
    "except:\n",
    "    istr=-1\n",
    "print(\"Second\",istr)"
   ]
  },
  {
   "cell_type": "code",
   "execution_count": 14,
   "metadata": {},
   "outputs": [
    {
     "name": "stdout",
     "output_type": "stream",
     "text": [
      "Hello\n",
      "Done -1\n"
     ]
    }
   ],
   "source": [
    "astr=\"Bob\"\n",
    "try:\n",
    "    print(\"Hello\")\n",
    "    istr=int(astr)\n",
    "    print(\"There\")\n",
    "except:\n",
    "    istr=-1\n",
    "print(\"Done\",istr)"
   ]
  },
  {
   "cell_type": "code",
   "execution_count": 15,
   "metadata": {},
   "outputs": [
    {
     "name": "stdout",
     "output_type": "stream",
     "text": [
      "Enter a number:123\n",
      "Nice work\n"
     ]
    }
   ],
   "source": [
    "rawstr=input(\"Enter a number:\")\n",
    "try:\n",
    "    ival=int(rawstr)\n",
    "except:\n",
    "    ival=-1\n",
    "\n",
    "if ival>0:\n",
    "    print(\"Nice work\")\n",
    "else:\n",
    "    print(\"Not a number\")"
   ]
  }
 ],
 "metadata": {
  "kernelspec": {
   "display_name": "Python 3",
   "language": "python",
   "name": "python3"
  },
  "language_info": {
   "codemirror_mode": {
    "name": "ipython",
    "version": 3
   },
   "file_extension": ".py",
   "mimetype": "text/x-python",
   "name": "python",
   "nbconvert_exporter": "python",
   "pygments_lexer": "ipython3",
   "version": "3.6.5"
  }
 },
 "nbformat": 4,
 "nbformat_minor": 2
}
