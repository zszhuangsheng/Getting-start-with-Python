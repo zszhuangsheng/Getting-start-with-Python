{
 "cells": [
  {
   "cell_type": "markdown",
   "metadata": {},
   "source": [
    "# Functions"
   ]
  },
  {
   "cell_type": "markdown",
   "metadata": {},
   "source": [
    "## Stored(and reused) Steps"
   ]
  },
  {
   "cell_type": "code",
   "execution_count": 1,
   "metadata": {},
   "outputs": [
    {
     "name": "stdout",
     "output_type": "stream",
     "text": [
      "Hello\n",
      "Fun\n",
      "zip\n",
      "Hello\n",
      "Fun\n"
     ]
    }
   ],
   "source": [
    "def thing():\n",
    "    print(\"Hello\")\n",
    "    print(\"Fun\")\n",
    "thing()\n",
    "print(\"zip\")\n",
    "thing()"
   ]
  },
  {
   "cell_type": "markdown",
   "metadata": {},
   "source": [
    "## Python Functions\n"
   ]
  },
  {
   "cell_type": "markdown",
   "metadata": {},
   "source": [
    "There are two kinds of functions in Python\n",
    "\n",
    "--  Built-in functions that are provided as part of Python,e.g. print(),input(),type(),float(),int()\n",
    "\n",
    "-- Functioms that we define ourselves and then use\n",
    "\n",
    "We treat the built-in function name as \"new\" reserved words(we avoid them as variable names)"
   ]
  },
  {
   "cell_type": "markdown",
   "metadata": {},
   "source": [
    "### Function definition"
   ]
  },
  {
   "cell_type": "markdown",
   "metadata": {},
   "source": [
    "In Python a function is some reusable code that takes arguments as input,does some computation,and then returns a result or results\n",
    "\n",
    "We define a function using the def reserved word\n",
    "\n",
    "We call/invoke the function by using the function name,parentheses,and arguments in an expression"
   ]
  },
  {
   "cell_type": "code",
   "execution_count": 2,
   "metadata": {},
   "outputs": [
    {
     "name": "stdout",
     "output_type": "stream",
     "text": [
      "w\n"
     ]
    }
   ],
   "source": [
    "big=max(\"Hello world\")\n",
    "print(big)"
   ]
  },
  {
   "cell_type": "code",
   "execution_count": 3,
   "metadata": {},
   "outputs": [
    {
     "name": "stdout",
     "output_type": "stream",
     "text": [
      " \n"
     ]
    }
   ],
   "source": [
    "tiny=min(\"Hello world\")\n",
    "print(tiny)"
   ]
  },
  {
   "cell_type": "markdown",
   "metadata": {},
   "source": [
    "### MaxFunction"
   ]
  },
  {
   "cell_type": "markdown",
   "metadata": {},
   "source": [
    "A function is some stored code that we use. A function takes some input and produces output.\n",
    "\n",
    "In this function, \"Hello world\" is a string,\"w\" is a string."
   ]
  },
  {
   "cell_type": "code",
   "execution_count": 1,
   "metadata": {},
   "outputs": [
    {
     "name": "stdout",
     "output_type": "stream",
     "text": [
      "w\n"
     ]
    }
   ],
   "source": [
    "big=max(\"Hello world\")\n",
    "print(big)"
   ]
  },
  {
   "cell_type": "markdown",
   "metadata": {},
   "source": [
    "### Type Conversions\n",
    "\n",
    "When you put an integer and floating point in an expression, the integer is implicity converted to a float\n",
    "\n",
    "You can contol this with the built-in functions int() and float()"
   ]
  },
  {
   "cell_type": "code",
   "execution_count": 2,
   "metadata": {},
   "outputs": [
    {
     "data": {
      "text/plain": [
       "int"
      ]
     },
     "execution_count": 2,
     "metadata": {},
     "output_type": "execute_result"
    }
   ],
   "source": [
    "i=42\n",
    "type(i)"
   ]
  },
  {
   "cell_type": "code",
   "execution_count": 3,
   "metadata": {},
   "outputs": [
    {
     "name": "stdout",
     "output_type": "stream",
     "text": [
      "42.0\n"
     ]
    }
   ],
   "source": [
    "f=float(i)\n",
    "print(f)"
   ]
  },
  {
   "cell_type": "code",
   "execution_count": 4,
   "metadata": {},
   "outputs": [
    {
     "data": {
      "text/plain": [
       "float"
      ]
     },
     "execution_count": 4,
     "metadata": {},
     "output_type": "execute_result"
    }
   ],
   "source": [
    "type(f)"
   ]
  },
  {
   "cell_type": "markdown",
   "metadata": {},
   "source": [
    "### String Conversions\n",
    "\n",
    "You can also use int() and float() to convert between strings and integers\n",
    "\n",
    "You will get an error if the string does not contain numeric characters"
   ]
  },
  {
   "cell_type": "code",
   "execution_count": 5,
   "metadata": {},
   "outputs": [
    {
     "data": {
      "text/plain": [
       "str"
      ]
     },
     "execution_count": 5,
     "metadata": {},
     "output_type": "execute_result"
    }
   ],
   "source": [
    "sval='123'\n",
    "type(sval)"
   ]
  },
  {
   "cell_type": "code",
   "execution_count": 6,
   "metadata": {},
   "outputs": [
    {
     "ename": "TypeError",
     "evalue": "must be str, not int",
     "output_type": "error",
     "traceback": [
      "\u001b[0;31m---------------------------------------------------------------------------\u001b[0m",
      "\u001b[0;31mTypeError\u001b[0m                                 Traceback (most recent call last)",
      "\u001b[0;32m<ipython-input-6-d31b14f87b22>\u001b[0m in \u001b[0;36m<module>\u001b[0;34m()\u001b[0m\n\u001b[0;32m----> 1\u001b[0;31m \u001b[0mprint\u001b[0m\u001b[0;34m(\u001b[0m\u001b[0msval\u001b[0m\u001b[0;34m+\u001b[0m\u001b[0;36m1\u001b[0m\u001b[0;34m)\u001b[0m\u001b[0;34m\u001b[0m\u001b[0m\n\u001b[0m",
      "\u001b[0;31mTypeError\u001b[0m: must be str, not int"
     ]
    }
   ],
   "source": [
    "print(sval+1)"
   ]
  },
  {
   "cell_type": "code",
   "execution_count": 7,
   "metadata": {},
   "outputs": [
    {
     "data": {
      "text/plain": [
       "int"
      ]
     },
     "execution_count": 7,
     "metadata": {},
     "output_type": "execute_result"
    }
   ],
   "source": [
    "ival=int(sval)\n",
    "type(ival)"
   ]
  },
  {
   "cell_type": "markdown",
   "metadata": {},
   "source": [
    "## Building our Own Functions\n",
    "\n",
    "We create a new functions using the def keyword followed by optional parameter in parentheses\n",
    "\n",
    "We indent the body of the funtion\n",
    "\n",
    "This defines the function but does not execute the body of the function\n"
   ]
  },
  {
   "cell_type": "code",
   "execution_count": 9,
   "metadata": {},
   "outputs": [
    {
     "name": "stdout",
     "output_type": "stream",
     "text": [
      "I'm a lumberjack, and I'm okay.\n",
      "I sleep all night and i work all day.\n"
     ]
    }
   ],
   "source": [
    "def print_lyrics():\n",
    "    print(\"I'm a lumberjack, and I'm okay.\")\n",
    "    print(\"I sleep all night and i work all day.\")\n",
    "    \n",
    "print_lyrics()"
   ]
  },
  {
   "cell_type": "code",
   "execution_count": 10,
   "metadata": {
    "scrolled": true
   },
   "outputs": [
    {
     "name": "stdout",
     "output_type": "stream",
     "text": [
      "Hello\n"
     ]
    }
   ],
   "source": [
    "x=5\n",
    "print(\"Hello\")"
   ]
  },
  {
   "cell_type": "code",
   "execution_count": 11,
   "metadata": {},
   "outputs": [
    {
     "name": "stdout",
     "output_type": "stream",
     "text": [
      "YO\n",
      "7\n"
     ]
    }
   ],
   "source": [
    "def print_lyrics():\n",
    "    print(\"I'm a lumberjack, and I'm okay\")\n",
    "    print(\"I sleep all night and I work all day\")\n",
    "print(\"YO\")\n",
    "x=x+2\n",
    "print(x)"
   ]
  },
  {
   "cell_type": "markdown",
   "metadata": {},
   "source": [
    "### Definitions and Uses\n",
    "\n",
    "Once we have defined a function, we can call(or invoke) it as many times as we like\n",
    "\n",
    "This is the store and reuse pattern"
   ]
  },
  {
   "cell_type": "code",
   "execution_count": 13,
   "metadata": {},
   "outputs": [
    {
     "data": {
      "text/plain": [
       "5"
      ]
     },
     "execution_count": 13,
     "metadata": {},
     "output_type": "execute_result"
    }
   ],
   "source": [
    "def add_number(x,y):\n",
    "    return x+y\n",
    "\n",
    "add_number(2,3)\n"
   ]
  },
  {
   "cell_type": "markdown",
   "metadata": {},
   "source": [
    "### Arguments\n",
    "\n",
    "An argument is a value we paa into the function as its input when we call the function\n",
    "\n",
    "We use arguments so we can direct the function to do different kinds of work when we call it at different times\n",
    "\n",
    "We put the arguments in parentheses after the name of the function"
   ]
  },
  {
   "cell_type": "markdown",
   "metadata": {},
   "source": [
    "### Parameters\n",
    "\n",
    "A parameter is a variable which we use in the function definition. It is a \"handle \" that allows the code in the function to access the arguments for a particular function invocation."
   ]
  },
  {
   "cell_type": "code",
   "execution_count": 14,
   "metadata": {},
   "outputs": [
    {
     "name": "stdout",
     "output_type": "stream",
     "text": [
      "Hello\n",
      "Hola\n",
      "Bonjour\n"
     ]
    }
   ],
   "source": [
    "def greet(lang):     #in this case, lang is a parameter;  definition contains the def,if ,elif, else and print\n",
    "    if lang==\"es\":\n",
    "        print(\"Hola\")\n",
    "    elif lang==\"fr\":\n",
    "        print(\"Bonjour\")\n",
    "    else:\n",
    "        print(\"Hello\")\n",
    "        \n",
    "greet(\"en\")   #en is an argument\n",
    "greet(\"es\")\n",
    "greet(\"fr\")"
   ]
  },
  {
   "cell_type": "markdown",
   "metadata": {},
   "source": [
    "### Return Values\n",
    "\n",
    "Often a function will take its arguments, do some computation, and return a value to be used as the value of the function call in the calling expression. The return keyword is used fo this"
   ]
  },
  {
   "cell_type": "code",
   "execution_count": 15,
   "metadata": {},
   "outputs": [
    {
     "name": "stdout",
     "output_type": "stream",
     "text": [
      "Hello Glenn\n",
      "Hello Sally\n"
     ]
    }
   ],
   "source": [
    "def greet():\n",
    "    return \"Hello\"\n",
    "\n",
    "print(greet(),\"Glenn\")\n",
    "print(greet(),\"Sally\")"
   ]
  },
  {
   "cell_type": "markdown",
   "metadata": {},
   "source": [
    "A \"fruitful\" function is one that produces a result(or return value)\n",
    "\n",
    "The return satement ends the function execution and \"sends back\" the result of the function"
   ]
  },
  {
   "cell_type": "markdown",
   "metadata": {},
   "source": [
    "### Multiple Parameters/Arguments"
   ]
  },
  {
   "cell_type": "markdown",
   "metadata": {},
   "source": [
    "We can define more than one parameter in the function\n",
    "\n",
    "We simply add more arguments when we call the function\n",
    "\n",
    "We match the number and order of arguments and parameters"
   ]
  },
  {
   "cell_type": "code",
   "execution_count": 16,
   "metadata": {},
   "outputs": [
    {
     "name": "stdout",
     "output_type": "stream",
     "text": [
      "8\n"
     ]
    }
   ],
   "source": [
    "def addtwo(a,b):\n",
    "    added=a+b\n",
    "    return added\n",
    "\n",
    "x=addtwo(3,5)\n",
    "print(x)"
   ]
  },
  {
   "cell_type": "markdown",
   "metadata": {},
   "source": [
    "### Void(Non-fruitful) Functions\n",
    "\n",
    "When a function does not return a value,we call it a \"void\" function\n",
    "\n",
    "Functions that return values are \"fruitful\" functions\n",
    "\n",
    "Void functions are \"not fruitful\""
   ]
  },
  {
   "cell_type": "markdown",
   "metadata": {},
   "source": [
    "### To function or not to function\n",
    "\n",
    "Organize your code into \"paragraphs\"-- capture a complete thought and name \"it\"\n",
    "\n",
    "Don't repeat yourself-- make it work once and then reuse it\n",
    "\n",
    "If something gets too long or complex,break it up into logical chunks and put those chunks in functions\n",
    "\n",
    "Make a library of common stuff that you do over and over-- perhaps share this with your friends"
   ]
  }
 ],
 "metadata": {
  "kernelspec": {
   "display_name": "Python 3",
   "language": "python",
   "name": "python3"
  },
  "language_info": {
   "codemirror_mode": {
    "name": "ipython",
    "version": 3
   },
   "file_extension": ".py",
   "mimetype": "text/x-python",
   "name": "python",
   "nbconvert_exporter": "python",
   "pygments_lexer": "ipython3",
   "version": "3.6.5"
  }
 },
 "nbformat": 4,
 "nbformat_minor": 2
}
